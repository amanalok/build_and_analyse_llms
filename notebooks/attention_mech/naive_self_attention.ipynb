{
 "cells": [
  {
   "cell_type": "markdown",
   "metadata": {},
   "source": [
    "# Naive Self Attention\n",
    "Simple self attention mechanism without trainable weights"
   ]
  },
  {
   "cell_type": "code",
   "execution_count": 1,
   "metadata": {},
   "outputs": [],
   "source": [
    "import torch"
   ]
  },
  {
   "cell_type": "code",
   "execution_count": 2,
   "metadata": {},
   "outputs": [],
   "source": [
    "inputs = torch.tensor(\n",
    "  [[0.43, 0.15, 0.89], # Your     (x^1)\n",
    "   [0.55, 0.87, 0.66], # journey  (x^2)\n",
    "   [0.57, 0.85, 0.64], # starts   (x^3)\n",
    "   [0.22, 0.58, 0.33], # with     (x^4)\n",
    "   [0.77, 0.25, 0.10], # one      (x^5)\n",
    "   [0.05, 0.80, 0.55]] # step     (x^6)\n",
    ")"
   ]
  },
  {
   "cell_type": "markdown",
   "metadata": {},
   "source": [
    "## Single Input Self Attention"
   ]
  },
  {
   "cell_type": "code",
   "execution_count": 3,
   "metadata": {},
   "outputs": [
    {
     "name": "stdout",
     "output_type": "stream",
     "text": [
      "Original Representation:  tensor([0.5500, 0.8700, 0.6600])\n",
      "Self Attention Representation:  tensor([0.4419, 0.6515, 0.5683])\n"
     ]
    }
   ],
   "source": [
    "# Calculating self attention for second token, i.e. \"journey\"\n",
    "query = inputs[1]\n",
    "\n",
    "# Step 1: Calculating attention scores\n",
    "attn_scores = torch.empty(inputs.shape[0])\n",
    "for i, emb in enumerate(inputs):\n",
    "    attn_scores[i] = torch.dot(query, emb)\n",
    "\n",
    "# Step 2: Calculating attention weights\n",
    "attn_wts_tmp = attn_scores / attn_scores.sum(dim=0)\n",
    "\n",
    "def softmax(x):\n",
    "    return torch.exp(x) / torch.exp(x).sum(dim=0)\n",
    "\n",
    "attn_wts_naive = softmax(attn_scores)\n",
    "attn_wts = torch.softmax(attn_scores, dim=0)\n",
    "\n",
    "# Step 3: Calculating context vector\n",
    "context_vec = torch.zeros_like(query)\n",
    "for i, wt in enumerate(attn_wts):\n",
    "    context_vec += wt * inputs[i]\n",
    "\n",
    "print(\"Original Representation: \", query)\n",
    "print(\"Self Attention Representation: \", context_vec)\n"
   ]
  },
  {
   "cell_type": "markdown",
   "metadata": {},
   "source": [
    "## All Inputs Self Attention"
   ]
  },
  {
   "cell_type": "code",
   "execution_count": 4,
   "metadata": {},
   "outputs": [],
   "source": [
    "# Calculating self attention for all inputs\n",
    "\n",
    "# Step 1: Calculate attention scores\n",
    "attn_scores_naive = torch.empty((6, 6))\n",
    "for i, token_emb_i in enumerate(inputs):\n",
    "    for j, token_emb_j in enumerate(inputs):\n",
    "        attn_scores_naive[i][j] = torch.dot(token_emb_i, token_emb_j)\n",
    "\n",
    "attn_scores = inputs @ inputs.T\n",
    "\n",
    "# Step 2: Calculate attention weights\n",
    "attn_wts_naive = torch.empty((6, 6))\n",
    "for token_index, token_attn_score_vec in enumerate(attn_scores_naive):\n",
    "    attn_wts_naive[token_index] = softmax(token_attn_score_vec)\n",
    "\n",
    "attn_wts = torch.softmax(attn_scores, dim=1)\n",
    "\n",
    "# Step 3: Calculate context vector\n",
    "context_vecs_naive = torch.zeros_like(inputs)\n",
    "for i in range(attn_scores_naive.shape[0]):\n",
    "    for j in range(attn_wts_naive.shape[1]):\n",
    "        attn_wt = attn_wts_naive[i][j]\n",
    "        context_vecs_naive[i] += attn_wt * inputs[j]\n",
    "\n",
    "context_vecs = attn_wts @ inputs"
   ]
  },
  {
   "cell_type": "code",
   "execution_count": 5,
   "metadata": {},
   "outputs": [
    {
     "name": "stdout",
     "output_type": "stream",
     "text": [
      "False\n",
      "False\n",
      "False\n"
     ]
    }
   ],
   "source": [
    "print(torch.equal(attn_scores_naive, attn_scores))\n",
    "print(torch.equal(attn_wts_naive, attn_wts))\n",
    "print(torch.equal(context_vecs_naive, context_vecs))"
   ]
  },
  {
   "cell_type": "code",
   "execution_count": 6,
   "metadata": {},
   "outputs": [
    {
     "data": {
      "text/plain": [
       "tensor([[0.9995, 0.9544, 0.9422, 0.4753, 0.4576, 0.6310],\n",
       "        [0.9544, 1.4950, 1.4754, 0.8434, 0.7070, 1.0865],\n",
       "        [0.9422, 1.4754, 1.4570, 0.8296, 0.7154, 1.0605],\n",
       "        [0.4753, 0.8434, 0.8296, 0.4937, 0.3474, 0.6565],\n",
       "        [0.4576, 0.7070, 0.7154, 0.3474, 0.6654, 0.2935],\n",
       "        [0.6310, 1.0865, 1.0605, 0.6565, 0.2935, 0.9450]])"
      ]
     },
     "execution_count": 6,
     "metadata": {},
     "output_type": "execute_result"
    }
   ],
   "source": [
    "attn_scores_naive"
   ]
  },
  {
   "cell_type": "code",
   "execution_count": 7,
   "metadata": {},
   "outputs": [
    {
     "data": {
      "text/plain": [
       "tensor([[0.9995, 0.9544, 0.9422, 0.4753, 0.4576, 0.6310],\n",
       "        [0.9544, 1.4950, 1.4754, 0.8434, 0.7070, 1.0865],\n",
       "        [0.9422, 1.4754, 1.4570, 0.8296, 0.7154, 1.0605],\n",
       "        [0.4753, 0.8434, 0.8296, 0.4937, 0.3474, 0.6565],\n",
       "        [0.4576, 0.7070, 0.7154, 0.3474, 0.6654, 0.2935],\n",
       "        [0.6310, 1.0865, 1.0605, 0.6565, 0.2935, 0.9450]])"
      ]
     },
     "execution_count": 7,
     "metadata": {},
     "output_type": "execute_result"
    }
   ],
   "source": [
    "attn_scores"
   ]
  },
  {
   "cell_type": "code",
   "execution_count": 8,
   "metadata": {},
   "outputs": [
    {
     "data": {
      "text/plain": [
       "tensor([[False, False,  True,  True,  True,  True],\n",
       "        [False, False,  True,  True,  True,  True],\n",
       "        [ True,  True,  True,  True,  True,  True],\n",
       "        [ True,  True,  True, False, False,  True],\n",
       "        [ True,  True,  True, False,  True,  True],\n",
       "        [ True,  True,  True,  True,  True,  True]])"
      ]
     },
     "execution_count": 8,
     "metadata": {},
     "output_type": "execute_result"
    }
   ],
   "source": [
    "torch.eq(attn_scores_naive, attn_scores)"
   ]
  },
  {
   "cell_type": "code",
   "execution_count": 9,
   "metadata": {},
   "outputs": [
    {
     "name": "stdout",
     "output_type": "stream",
     "text": [
      "tensor(0.9995) tensor(0.9995)\n",
      "torch.float32 torch.float32\n"
     ]
    }
   ],
   "source": [
    "print(attn_scores_naive[0][0], attn_scores[0][0])\n",
    "print(attn_scores_naive.dtype, attn_scores.dtype)"
   ]
  },
  {
   "cell_type": "code",
   "execution_count": null,
   "metadata": {},
   "outputs": [],
   "source": []
  }
 ],
 "metadata": {
  "kernelspec": {
   "display_name": "LLMs",
   "language": "python",
   "name": "python3"
  },
  "language_info": {
   "codemirror_mode": {
    "name": "ipython",
    "version": 3
   },
   "file_extension": ".py",
   "mimetype": "text/x-python",
   "name": "python",
   "nbconvert_exporter": "python",
   "pygments_lexer": "ipython3",
   "version": "3.10.16"
  }
 },
 "nbformat": 4,
 "nbformat_minor": 2
}
