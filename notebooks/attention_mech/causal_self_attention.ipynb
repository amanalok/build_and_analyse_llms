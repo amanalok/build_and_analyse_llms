{
 "cells": [
  {
   "cell_type": "markdown",
   "metadata": {},
   "source": [
    "# Causal Self Attention"
   ]
  },
  {
   "cell_type": "code",
   "execution_count": 1,
   "metadata": {},
   "outputs": [],
   "source": [
    "import torch\n",
    "from lib.attention import VanillaSelfAttention"
   ]
  },
  {
   "cell_type": "code",
   "execution_count": 2,
   "metadata": {},
   "outputs": [],
   "source": [
    "inputs = torch.tensor(\n",
    "  [[0.43, 0.15, 0.89], # Your     (x^1)\n",
    "   [0.55, 0.87, 0.66], # journey  (x^2)\n",
    "   [0.57, 0.85, 0.64], # starts   (x^3)\n",
    "   [0.22, 0.58, 0.33], # with     (x^4)\n",
    "   [0.77, 0.25, 0.10], # one      (x^5)\n",
    "   [0.05, 0.80, 0.55]] # step     (x^6)\n",
    ")"
   ]
  },
  {
   "cell_type": "code",
   "execution_count": 3,
   "metadata": {},
   "outputs": [],
   "source": [
    "torch.manual_seed(789)\n",
    "vanilla_self_attention = VanillaSelfAttention(d_in=inputs.shape[-1], d_out=inputs.shape[-1] - 1)\n",
    "\n",
    "queries = vanilla_self_attention.W_q(inputs)\n",
    "keys = vanilla_self_attention.W_k(inputs)\n",
    "\n",
    "attn_scores = queries @ keys.T\n",
    "attn_wts = torch.softmax(attn_scores / keys.shape[-1] ** 0.5, dim=-1)"
   ]
  },
  {
   "cell_type": "code",
   "execution_count": 4,
   "metadata": {},
   "outputs": [
    {
     "name": "stdout",
     "output_type": "stream",
     "text": [
      "tensor([[1.0000, 0.0000, 0.0000, 0.0000, 0.0000, 0.0000],\n",
      "        [0.5517, 0.4483, 0.0000, 0.0000, 0.0000, 0.0000],\n",
      "        [0.3800, 0.3097, 0.3103, 0.0000, 0.0000, 0.0000],\n",
      "        [0.2758, 0.2460, 0.2462, 0.2319, 0.0000, 0.0000],\n",
      "        [0.2175, 0.1983, 0.1984, 0.1888, 0.1971, 0.0000],\n",
      "        [0.1935, 0.1663, 0.1666, 0.1542, 0.1666, 0.1529]],\n",
      "       grad_fn=<DivBackward0>)\n"
     ]
    }
   ],
   "source": [
    "# Applying Simple Causal Mask, i.e. masking with 0s\n",
    "\n",
    "causal_mask_simple = torch.tril(torch.ones(attn_wts.shape))\n",
    "simple_masked_attn_wts = attn_wts * causal_mask_simple\n",
    "\n",
    "simple_masked_attn_wts_norm = simple_masked_attn_wts / simple_masked_attn_wts.sum(dim=-1, keepdim=True)\n",
    "print(simple_masked_attn_wts_norm)"
   ]
  },
  {
   "cell_type": "code",
   "execution_count": 5,
   "metadata": {},
   "outputs": [
    {
     "name": "stdout",
     "output_type": "stream",
     "text": [
      "tensor([[1.0000, 0.0000, 0.0000, 0.0000, 0.0000, 0.0000],\n",
      "        [0.5517, 0.4483, 0.0000, 0.0000, 0.0000, 0.0000],\n",
      "        [0.3800, 0.3097, 0.3103, 0.0000, 0.0000, 0.0000],\n",
      "        [0.2758, 0.2460, 0.2462, 0.2319, 0.0000, 0.0000],\n",
      "        [0.2175, 0.1983, 0.1984, 0.1888, 0.1971, 0.0000],\n",
      "        [0.1935, 0.1663, 0.1666, 0.1542, 0.1666, 0.1529]],\n",
      "       grad_fn=<SoftmaxBackward0>)\n"
     ]
    }
   ],
   "source": [
    "# Applying Efficient Causal Mask, i.e. masking with -∞\n",
    "\n",
    "causal_mask_efficient = torch.triu(torch.ones(attn_scores.shape), diagonal=1)\n",
    "causal_masked_attn_scores = attn_scores.masked_fill(causal_mask_efficient.bool(), -torch.inf)\n",
    "\n",
    "causal_masked_attn_wts = torch.softmax(causal_masked_attn_scores / keys.shape[-1] ** 0.5, dim=-1)\n",
    "print(causal_masked_attn_wts)"
   ]
  },
  {
   "cell_type": "code",
   "execution_count": 6,
   "metadata": {},
   "outputs": [
    {
     "data": {
      "text/plain": [
       "tensor([[2., 2., 0., 2., 2., 0.],\n",
       "        [0., 0., 0., 2., 0., 2.],\n",
       "        [2., 2., 2., 2., 0., 2.],\n",
       "        [0., 2., 2., 0., 0., 2.],\n",
       "        [0., 2., 0., 2., 0., 2.],\n",
       "        [0., 2., 2., 2., 2., 0.]])"
      ]
     },
     "execution_count": 6,
     "metadata": {},
     "output_type": "execute_result"
    }
   ],
   "source": [
    "# Masking additional attention weights with dropout\n",
    "torch.manual_seed(123)\n",
    "dropout_layer = torch.nn.Dropout(0.5)\n",
    "\n",
    "# Dropout illustration\n",
    "dropout_layer(torch.ones(attn_wts.shape))"
   ]
  },
  {
   "cell_type": "code",
   "execution_count": 7,
   "metadata": {},
   "outputs": [
    {
     "data": {
      "text/plain": [
       "tensor([[2.0000, 0.0000, 0.0000, 0.0000, 0.0000, 0.0000],\n",
       "        [0.0000, 0.0000, 0.0000, 0.0000, 0.0000, 0.0000],\n",
       "        [0.7599, 0.6194, 0.6206, 0.0000, 0.0000, 0.0000],\n",
       "        [0.0000, 0.4921, 0.4925, 0.0000, 0.0000, 0.0000],\n",
       "        [0.0000, 0.3966, 0.0000, 0.3775, 0.0000, 0.0000],\n",
       "        [0.0000, 0.3327, 0.3331, 0.3084, 0.3331, 0.0000]],\n",
       "       grad_fn=<MulBackward0>)"
      ]
     },
     "execution_count": 7,
     "metadata": {},
     "output_type": "execute_result"
    }
   ],
   "source": [
    "torch.manual_seed(123)\n",
    "dropout_layer(causal_masked_attn_wts)"
   ]
  },
  {
   "cell_type": "code",
   "execution_count": 8,
   "metadata": {},
   "outputs": [],
   "source": [
    "import torch.nn as nn\n",
    "\n",
    "class CausalAttention(nn.Module):\n",
    "    def __init__(self, d_in, d_out, context_len, dropout, qkv_bias=False):\n",
    "        super().__init__()\n",
    "        self.W_q = nn.Linear(d_in, d_out, bias=qkv_bias)\n",
    "        self.W_k = nn.Linear(d_in, d_out, bias=qkv_bias)\n",
    "        self.W_v = nn.Linear(d_in, d_out, bias=qkv_bias)\n",
    "        self.dropout_layer = nn.Dropout(p=dropout)\n",
    "        self.register_buffer(\n",
    "            'mask', torch.triu(torch.ones(context_len, context_len), diagonal=1))\n",
    "    \n",
    "    def forward(self, x):\n",
    "        batch_size, num_tokens, emb_dim = x.shape\n",
    "        queries = self.W_q(x)\n",
    "        keys = self.W_k(x)\n",
    "        values = self.W_v(x)\n",
    "\n",
    "        attn_scores = queries @ keys.transpose(1, 2)\n",
    "        attn_scores.masked_fill(\n",
    "            self.mask.bool()[:num_tokens, :num_tokens], -torch.inf)\n",
    "        attn_wts = torch.softmax(attn_scores / keys.shape[-1] ** 0.5, dim=-1)\n",
    "        attn_wts = self.dropout_layer(attn_wts)\n",
    "        context_vecs = attn_wts @ values\n",
    "        return context_vecs"
   ]
  },
  {
   "cell_type": "code",
   "execution_count": 9,
   "metadata": {},
   "outputs": [
    {
     "name": "stdout",
     "output_type": "stream",
     "text": [
      "tensor([[[-0.5337, -0.1051],\n",
      "         [-0.5323, -0.1080],\n",
      "         [-0.5323, -0.1079],\n",
      "         [-0.5297, -0.1076],\n",
      "         [-0.5311, -0.1066],\n",
      "         [-0.5299, -0.1081]],\n",
      "\n",
      "        [[-0.5337, -0.1051],\n",
      "         [-0.5323, -0.1080],\n",
      "         [-0.5323, -0.1079],\n",
      "         [-0.5297, -0.1076],\n",
      "         [-0.5311, -0.1066],\n",
      "         [-0.5299, -0.1081]]], grad_fn=<UnsafeViewBackward0>)\n"
     ]
    }
   ],
   "source": [
    "torch.manual_seed(123)\n",
    "\n",
    "single_batch_inputs = torch.stack((inputs, inputs))\n",
    "causal_attn_layer = CausalAttention(\n",
    "    d_in=single_batch_inputs.shape[-1], d_out=single_batch_inputs.shape[-1] - 1, \n",
    "    context_len=single_batch_inputs.shape[1], dropout=0.0)\n",
    "\n",
    "context_vecs = causal_attn_layer(single_batch_inputs)\n",
    "print(context_vecs)"
   ]
  }
 ],
 "metadata": {
  "kernelspec": {
   "display_name": "LLMs",
   "language": "python",
   "name": "python3"
  },
  "language_info": {
   "codemirror_mode": {
    "name": "ipython",
    "version": 3
   },
   "file_extension": ".py",
   "mimetype": "text/x-python",
   "name": "python",
   "nbconvert_exporter": "python",
   "pygments_lexer": "ipython3",
   "version": "3.10.16"
  }
 },
 "nbformat": 4,
 "nbformat_minor": 2
}
